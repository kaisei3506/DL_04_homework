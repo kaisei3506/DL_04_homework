{
  "cells": [
    {
      "cell_type": "markdown",
      "metadata": {
        "id": "view-in-github",
        "colab_type": "text"
      },
      "source": [
        "<a href=\"https://colab.research.google.com/github/kaisei3506/DL_04_homework/blob/main/lecture04_homework.ipynb\" target=\"_parent\"><img src=\"https://colab.research.google.com/assets/colab-badge.svg\" alt=\"Open In Colab\"/></a>"
      ]
    },
    {
      "cell_type": "markdown",
      "metadata": {
        "id": "MUWcdth_khfN"
      },
      "source": [
        "# 第4回講義 宿題"
      ]
    },
    {
      "cell_type": "markdown",
      "metadata": {
        "id": "gAjuP7I4lWyn"
      },
      "source": [
        "## 課題\n",
        "\n",
        "今Lessonで学んだことを元に，MNISTのファッション版 (Fashion MNIST，クラス数10) を多層パーセプトロンによって分類してみましょう．\n",
        "\n",
        "Fashion MNISTの詳細については以下のリンクを参考にしてください．\n",
        "\n",
        "Fashion MNIST: https://github.com/zalandoresearch/fashion-mnist"
      ]
    },
    {
      "cell_type": "markdown",
      "metadata": {
        "id": "Cpiz19GRlZ_9"
      },
      "source": [
        "### 目標値\n",
        "\n",
        "Accuracy 85%"
      ]
    },
    {
      "cell_type": "markdown",
      "metadata": {
        "id": "qSHeI_utleEN"
      },
      "source": [
        "### ルール\n",
        "\n",
        "\n",
        "- 訓練データは`x_train`， `t_train`，テストデータは`x_test`で与えられます．\n",
        "- 予測ラベルは one_hot表現ではなく0~9のクラスラベル で表してください．\n",
        "- **下のセルで指定されている`x_train`，`t_train`以外の学習データは使わないでください．**\n",
        "- Pytorchを利用して構いません．\n",
        "- ただし，**`torch.nn.Conv2d`のような高レベルのAPIは使用しないで下さい**．具体的には，`nn.Parameter`, `nn.Module`, `nn.Sequential`以外の`nn`系のAPIです．\n",
        "- torchvision等で既に実装されているモデルも使用しないで下さい．"
      ]
    },
    {
      "cell_type": "markdown",
      "metadata": {
        "id": "diuec-_YluI6"
      },
      "source": [
        "### 提出方法\n",
        "- 2つのファイルを提出していただきます．\n",
        "    1. テストデータ (`x_test`) に対する予測ラベルを`submission_pred.csv`として保存し，**Omnicampusの宿題タブから「第4回 ニューラルネットワークの最適化・正則化」を選択して**提出してください．\n",
        "    2. それに対応するpythonのコードを`submission_code.py`として保存し，**Omnicampusの宿題タブから「第4回 ニューラルネットワークの最適化・正則化 (code)」を選択して**提出してください．pythonファイル自体の提出ではなく，「提出内容」の部分にコードをコピー&ペーストしてください．\n",
        "      \n",
        "- なお，採点は1で行い，2はコードの確認用として利用します（成績優秀者はコード内容を公開させていただくかもしれません）．コードの内容を変更した場合は，**1と2の両方を提出し直してください**．"
      ]
    },
    {
      "cell_type": "markdown",
      "metadata": {
        "id": "hofSzJsVlvKp"
      },
      "source": [
        "### 評価方法\n",
        "- 予測ラベルの`t_test`に対する精度 (Accuracy) で評価します．\n",
        "- 即時採点しLeader Boardを更新します（採点スケジュールは別アナウンス）．\n",
        "- 締切時の点数を最終的な評価とします．"
      ]
    },
    {
      "cell_type": "markdown",
      "metadata": {
        "id": "ALYtPC5OjKFM"
      },
      "source": [
        "### ドライブのマウント"
      ]
    },
    {
      "cell_type": "code",
      "execution_count": 1,
      "metadata": {
        "id": "efPoZs_KjKFM",
        "colab": {
          "base_uri": "https://localhost:8080/"
        },
        "outputId": "2cb16c11-af40-4312-c5a1-d9873c1511f0"
      },
      "outputs": [
        {
          "output_type": "stream",
          "name": "stdout",
          "text": [
            "Mounted at /content/drive\n"
          ]
        }
      ],
      "source": [
        "from google.colab import drive\n",
        "drive.mount('/content/drive')"
      ]
    },
    {
      "cell_type": "markdown",
      "metadata": {
        "id": "Cu4cmQtelx19"
      },
      "source": [
        "### データの読み込み（この部分は修正しないでください）\n",
        "\n",
        "`__len__`は，Pythonの組み込み関数len()を呼んだときに，内部で呼ばれる特殊メソッドです．\n",
        "\n",
        "`__getitem__`は，インデックスやキーで要素を取得するときに，内部で呼ばれる特殊メソッドです．\n",
        "\n",
        "どちらも， Datasetクラスを自作する際によく登場します．\n",
        "\n",
        "```python\n",
        "class MyList:\n",
        "    def __init__(self, data):\n",
        "        self.data = data\n",
        "\n",
        "    def __len__(self):\n",
        "        return len(self.data)\n",
        "\n",
        "    def __getitem__(self, index):\n",
        "        return self.data[index]\n",
        "\n",
        "mylist = MyList([10, 20, 30])\n",
        "print(len(mylist))  # __len__が呼び出される\n",
        "# 3\n",
        "print(mylist[1])  # __getitem__が呼び出される\n",
        "# 20\n",
        "```"
      ]
    },
    {
      "cell_type": "code",
      "execution_count": 2,
      "metadata": {
        "id": "EsLDDSUJkRx-"
      },
      "outputs": [],
      "source": [
        "import torch._dynamo\n",
        "torch._dynamo.disable()\n",
        "\n",
        "import os\n",
        "import numpy as np\n",
        "import pandas as pd\n",
        "import torch\n",
        "import torch.nn as nn\n",
        "import torch.optim as optim\n",
        "import torch.autograd as autograd\n",
        "import inspect\n",
        "\n",
        "nn_except = [\"Module\", \"Parameter\", \"Sequential\"]\n",
        "for m in inspect.getmembers(nn):\n",
        "    if not m[0] in nn_except and m[0][0:2] != \"__\":\n",
        "        delattr(nn, m[0])\n",
        "\n",
        "seed = 1234\n",
        "torch.manual_seed(seed)\n",
        "np.random.seed(seed)\n",
        "\n",
        "device = torch.device(\"cuda\" if torch.cuda.is_available() else \"cpu\")\n",
        "\n",
        "#学習データ\n",
        "x_train = np.load('drive/MyDrive/Colab Notebooks/DLBasics2025_colab/Lecture04/data/x_train.npy')\n",
        "t_train = np.load('drive/MyDrive/Colab Notebooks/DLBasics2025_colab/Lecture04/data/y_train.npy')\n",
        "\n",
        "#テストデータ\n",
        "x_test = np.load('drive/MyDrive/Colab Notebooks/DLBasics2025_colab/Lecture04/data/x_test.npy')\n",
        "\n",
        "class train_dataset(torch.utils.data.Dataset):\n",
        "    def __init__(self, x_train, t_train):\n",
        "        self.x_train = x_train.reshape(-1, 784).astype('float32') / 255\n",
        "        self.t_train = t_train\n",
        "\n",
        "    def __len__(self):\n",
        "        return self.x_train.shape[0]\n",
        "\n",
        "    def __getitem__(self, idx):\n",
        "        return torch.tensor(self.x_train[idx], dtype=torch.float), torch.tensor(self.t_train[idx], dtype=torch.long)\n",
        "\n",
        "class test_dataset(torch.utils.data.Dataset):\n",
        "    def __init__(self, x_test):\n",
        "        self.x_test = x_test.reshape(-1, 784).astype('float32') / 255\n",
        "\n",
        "    def __len__(self):\n",
        "        return self.x_test.shape[0]\n",
        "\n",
        "    def __getitem__(self, idx):\n",
        "        return torch.tensor(self.x_test[idx], dtype=torch.float)\n",
        "\n",
        "trainval_data = train_dataset(x_train, t_train)\n",
        "test_data = test_dataset(x_test)"
      ]
    },
    {
      "cell_type": "markdown",
      "metadata": {
        "id": "UrSpHDIWOfK_"
      },
      "source": [
        "### 多層パーセプトロンの実装"
      ]
    },
    {
      "cell_type": "code",
      "execution_count": 3,
      "metadata": {
        "id": "sKAe0F36nSvU"
      },
      "outputs": [],
      "source": [
        "batch_size = 32\n",
        "\n",
        "val_size = 10000\n",
        "train_size = len(trainval_data) - val_size\n",
        "\n",
        "train_data, val_data = torch.utils.data.random_split(trainval_data, [train_size, val_size])\n",
        "\n",
        "dataloader_train = torch.utils.data.DataLoader(\n",
        "    train_data,\n",
        "    batch_size=batch_size,\n",
        "    shuffle=True\n",
        ")\n",
        "\n",
        "dataloader_valid = torch.utils.data.DataLoader(\n",
        "    val_data,\n",
        "    batch_size=batch_size,\n",
        "    shuffle=True\n",
        ")\n",
        "\n",
        "dataloader_test = torch.utils.data.DataLoader(\n",
        "    test_data,\n",
        "    batch_size=batch_size,\n",
        "    shuffle=False\n",
        ")"
      ]
    },
    {
      "cell_type": "code",
      "execution_count": 23,
      "metadata": {
        "id": "PADQiKNa2snb"
      },
      "outputs": [],
      "source": [
        "def relu(x):\n",
        "    return torch.where(x > 0, x, torch.zeros_like(x))\n",
        "\n",
        "\n",
        "def softmax(x):\n",
        "    x -= torch.cat([x.max(axis=1, keepdims=True).values] * x.size()[1], dim=1)\n",
        "    x_exp = torch.exp(x)\n",
        "    return x_exp/torch.cat([x_exp.sum(dim=1, keepdims=True)]*x.size()[1], dim=1)\n",
        "\n",
        "\n",
        "\n",
        "class Dense(nn.Module):  # nn.Moduleを継承する\n",
        "    def __init__(self, in_dim, out_dim, function=lambda x: x):\n",
        "      super().__init__()\n",
        "      self.W = nn.Parameter(torch.tensor(np.random.uniform(\n",
        "          low=-np.sqrt(6/in_dim),\n",
        "          high=np.sqrt(6/in_dim),\n",
        "          size=(in_dim, out_dim)\n",
        "      ).astype('float32')))\n",
        "      self.b = nn.Parameter(torch.tensor(np.zeros([out_dim]).astype('float32')))\n",
        "      self.function = function\n",
        "\n",
        "    def forward(self, x):\n",
        "      return self.function(torch.matmul(x, self.W) + self.b)\n",
        "\n",
        "\n",
        "class MLP(nn.Module):  # nn.Moduleを継承する\n",
        "    def __init__(self, in_dim, hid_dim, out_dim):\n",
        "      super(MLP, self).__init__()\n",
        "      self.linear1 = Dense(in_dim, hid_dim, function=relu)\n",
        "      self.linear2 = Dense(hid_dim, out_dim, function=softmax)\n",
        "\n",
        "    def forward(self, x):\n",
        "      x = self.linear1(x)\n",
        "      x = self.linear2(x)\n",
        "      return x\n",
        "\n",
        "in_dim = 784\n",
        "hid_dim = 200\n",
        "out_dim = 10\n",
        "lr = 0.005\n",
        "n_epochs = 50\n",
        "\n",
        "\n",
        "mlp = MLP(in_dim, hid_dim, out_dim).to(device)\n",
        "\n",
        "optimizer = optim.Adam(lr=lr, params=mlp.parameters())"
      ]
    },
    {
      "cell_type": "code",
      "execution_count": 27,
      "metadata": {
        "id": "nlOZuLu-328i",
        "colab": {
          "base_uri": "https://localhost:8080/"
        },
        "outputId": "0f47d7d2-435f-4708-c1e2-78b14036333d"
      },
      "outputs": [
        {
          "output_type": "stream",
          "name": "stdout",
          "text": [
            "EPOCH: 0, Train [Loss: 0.233, Acc: 0.914], Valid [Loss: 0.420, Acc: 0.878]\n",
            "EPOCH: 1, Train [Loss: 0.226, Acc: 0.916], Valid [Loss: 0.437, Acc: 0.875]\n",
            "EPOCH: 2, Train [Loss: 0.234, Acc: 0.912], Valid [Loss: 0.410, Acc: 0.879]\n",
            "EPOCH: 3, Train [Loss: 0.222, Acc: 0.915], Valid [Loss: 0.473, Acc: 0.874]\n",
            "EPOCH: 4, Train [Loss: 0.224, Acc: 0.916], Valid [Loss: 0.440, Acc: 0.875]\n",
            "EPOCH: 5, Train [Loss: 0.223, Acc: 0.917], Valid [Loss: 0.452, Acc: 0.873]\n",
            "EPOCH: 6, Train [Loss: 0.221, Acc: 0.916], Valid [Loss: 0.452, Acc: 0.880]\n",
            "EPOCH: 7, Train [Loss: 0.218, Acc: 0.918], Valid [Loss: 0.501, Acc: 0.874]\n",
            "EPOCH: 8, Train [Loss: 0.215, Acc: 0.919], Valid [Loss: 0.472, Acc: 0.870]\n",
            "EPOCH: 9, Train [Loss: 0.215, Acc: 0.919], Valid [Loss: 0.470, Acc: 0.875]\n",
            "EPOCH: 10, Train [Loss: 0.217, Acc: 0.919], Valid [Loss: 0.467, Acc: 0.875]\n",
            "EPOCH: 11, Train [Loss: 0.216, Acc: 0.919], Valid [Loss: 0.473, Acc: 0.872]\n",
            "EPOCH: 12, Train [Loss: 0.210, Acc: 0.922], Valid [Loss: 0.477, Acc: 0.879]\n",
            "Early stopping at epoch 12\n"
          ]
        }
      ],
      "source": [
        "best_loss = float('inf')\n",
        "patience = 10\n",
        "counter = 0\n",
        "best_model = None\n",
        "\n",
        "for epoch in range(n_epochs):\n",
        "    losses_train = []\n",
        "    losses_valid = []\n",
        "    train_num = 0\n",
        "    train_true_num = 0\n",
        "    valid_num = 0\n",
        "    valid_true_num = 0\n",
        "\n",
        "    mlp.train()\n",
        "    for x, t in dataloader_train:\n",
        "        t_hot = torch.eye(10)[t].to(device)\n",
        "        x = x.to(device)\n",
        "\n",
        "        y = mlp(x)\n",
        "        loss = -(t_hot * torch.log(y + 1e-8)).sum(dim=1).mean()\n",
        "\n",
        "        optimizer.zero_grad()\n",
        "        loss.backward()\n",
        "        optimizer.step()\n",
        "\n",
        "        pred = y.argmax(1)\n",
        "        losses_train.append(loss.item())\n",
        "        acc = (t == pred.to(\"cpu\")).sum().item()\n",
        "        train_num += len(t)\n",
        "        train_true_num += acc\n",
        "\n",
        "    mlp.eval()\n",
        "    with torch.no_grad():\n",
        "        for x, t in dataloader_valid:\n",
        "            t_hot = torch.eye(10)[t].to(device)\n",
        "            x = x.to(device)\n",
        "\n",
        "            y = mlp(x)\n",
        "            loss = -(t_hot * torch.log(y + 1e-8)).sum(dim=1).mean()\n",
        "\n",
        "            pred = y.argmax(1)\n",
        "            losses_valid.append(loss.item())\n",
        "            acc = (t == pred.to(\"cpu\")).sum().item()\n",
        "            valid_num += len(t)\n",
        "            valid_true_num += acc\n",
        "\n",
        "    val_loss = np.mean(losses_valid)\n",
        "    print('EPOCH: {}, Train [Loss: {:.3f}, Acc: {:.3f}], Valid [Loss: {:.3f}, Acc: {:.3f}]'.format(\n",
        "        epoch,\n",
        "        np.mean(losses_train),\n",
        "        train_true_num/train_num,\n",
        "        val_loss,\n",
        "        valid_true_num/valid_num\n",
        "    ))\n",
        "\n",
        "    # 早期停止の条件チェック\n",
        "    if val_loss < best_loss:\n",
        "        best_loss = val_loss\n",
        "        best_model = mlp.state_dict()  # 重みを保存\n",
        "        counter = 0\n",
        "    else:\n",
        "        counter += 1\n",
        "        if counter >= patience:\n",
        "            print(f\"Early stopping at epoch {epoch}\")\n",
        "            break"
      ]
    },
    {
      "cell_type": "code",
      "execution_count": 28,
      "metadata": {
        "id": "Yq3scS5j4Rt2"
      },
      "outputs": [],
      "source": [
        "mlp.eval()\n",
        "\n",
        "t_pred = []\n",
        "for x in dataloader_test:\n",
        "\n",
        "    x = x.to(device)\n",
        "\n",
        "    # 順伝播\n",
        "    y = mlp.forward(x)\n",
        "\n",
        "    # モデルの出力を予測値のスカラーに変換\n",
        "    pred = y.argmax(1).tolist()\n",
        "\n",
        "    t_pred.extend(pred)\n",
        "\n",
        "submission = pd.Series(t_pred, name='label')\n",
        "submission.to_csv('drive/MyDrive/Colab Notebooks/DLBasics2025_colab/Lecture04/submission_pred.csv', header=True, index_label='id')"
      ]
    },
    {
      "cell_type": "code",
      "source": [],
      "metadata": {
        "id": "FQUY9WFLore0"
      },
      "execution_count": null,
      "outputs": []
    }
  ],
  "metadata": {
    "accelerator": "GPU",
    "colab": {
      "provenance": [],
      "include_colab_link": true
    },
    "kernelspec": {
      "display_name": "Python 3",
      "language": "python",
      "name": "python3"
    },
    "language_info": {
      "codemirror_mode": {
        "name": "ipython",
        "version": 3
      },
      "file_extension": ".py",
      "mimetype": "text/x-python",
      "name": "python",
      "nbconvert_exporter": "python",
      "pygments_lexer": "ipython3",
      "version": "3.6.2"
    }
  },
  "nbformat": 4,
  "nbformat_minor": 0
}