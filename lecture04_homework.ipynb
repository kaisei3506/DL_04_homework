{
  "cells": [
    {
      "cell_type": "markdown",
      "metadata": {
        "id": "view-in-github",
        "colab_type": "text"
      },
      "source": [
        "<a href=\"https://colab.research.google.com/github/kaisei3506/DL_04_homework/blob/main/lecture04_homework.ipynb\" target=\"_parent\"><img src=\"https://colab.research.google.com/assets/colab-badge.svg\" alt=\"Open In Colab\"/></a>"
      ]
    },
    {
      "cell_type": "markdown",
      "metadata": {
        "id": "MUWcdth_khfN"
      },
      "source": [
        "# 第4回講義 宿題"
      ]
    },
    {
      "cell_type": "markdown",
      "metadata": {
        "id": "gAjuP7I4lWyn"
      },
      "source": [
        "## 課題\n",
        "\n",
        "今Lessonで学んだことを元に，MNISTのファッション版 (Fashion MNIST，クラス数10) を多層パーセプトロンによって分類してみましょう．\n",
        "\n",
        "Fashion MNISTの詳細については以下のリンクを参考にしてください．\n",
        "\n",
        "Fashion MNIST: https://github.com/zalandoresearch/fashion-mnist"
      ]
    },
    {
      "cell_type": "markdown",
      "metadata": {
        "id": "Cpiz19GRlZ_9"
      },
      "source": [
        "### 目標値\n",
        "\n",
        "Accuracy 85%"
      ]
    },
    {
      "cell_type": "markdown",
      "metadata": {
        "id": "qSHeI_utleEN"
      },
      "source": [
        "### ルール\n",
        "\n",
        "\n",
        "- 訓練データは`x_train`， `t_train`，テストデータは`x_test`で与えられます．\n",
        "- 予測ラベルは one_hot表現ではなく0~9のクラスラベル で表してください．\n",
        "- **下のセルで指定されている`x_train`，`t_train`以外の学習データは使わないでください．**\n",
        "- Pytorchを利用して構いません．\n",
        "- ただし，**`torch.nn.Conv2d`のような高レベルのAPIは使用しないで下さい**．具体的には，`nn.Parameter`, `nn.Module`, `nn.Sequential`以外の`nn`系のAPIです．\n",
        "- torchvision等で既に実装されているモデルも使用しないで下さい．"
      ]
    },
    {
      "cell_type": "markdown",
      "metadata": {
        "id": "diuec-_YluI6"
      },
      "source": [
        "### 提出方法\n",
        "- 2つのファイルを提出していただきます．\n",
        "    1. テストデータ (`x_test`) に対する予測ラベルを`submission_pred.csv`として保存し，**Omnicampusの宿題タブから「第4回 ニューラルネットワークの最適化・正則化」を選択して**提出してください．\n",
        "    2. それに対応するpythonのコードを`submission_code.py`として保存し，**Omnicampusの宿題タブから「第4回 ニューラルネットワークの最適化・正則化 (code)」を選択して**提出してください．pythonファイル自体の提出ではなく，「提出内容」の部分にコードをコピー&ペーストしてください．\n",
        "      \n",
        "- なお，採点は1で行い，2はコードの確認用として利用します（成績優秀者はコード内容を公開させていただくかもしれません）．コードの内容を変更した場合は，**1と2の両方を提出し直してください**．"
      ]
    },
    {
      "cell_type": "markdown",
      "metadata": {
        "id": "hofSzJsVlvKp"
      },
      "source": [
        "### 評価方法\n",
        "- 予測ラベルの`t_test`に対する精度 (Accuracy) で評価します．\n",
        "- 即時採点しLeader Boardを更新します（採点スケジュールは別アナウンス）．\n",
        "- 締切時の点数を最終的な評価とします．"
      ]
    },
    {
      "cell_type": "markdown",
      "metadata": {
        "id": "ALYtPC5OjKFM"
      },
      "source": [
        "### ドライブのマウント"
      ]
    },
    {
      "cell_type": "code",
      "execution_count": 1,
      "metadata": {
        "id": "efPoZs_KjKFM",
        "colab": {
          "base_uri": "https://localhost:8080/"
        },
        "outputId": "2cb16c11-af40-4312-c5a1-d9873c1511f0"
      },
      "outputs": [
        {
          "output_type": "stream",
          "name": "stdout",
          "text": [
            "Mounted at /content/drive\n"
          ]
        }
      ],
      "source": [
        "from google.colab import drive\n",
        "drive.mount('/content/drive')"
      ]
    },
    {
      "cell_type": "markdown",
      "metadata": {
        "id": "Cu4cmQtelx19"
      },
      "source": [
        "### データの読み込み（この部分は修正しないでください）\n",
        "\n",
        "`__len__`は，Pythonの組み込み関数len()を呼んだときに，内部で呼ばれる特殊メソッドです．\n",
        "\n",
        "`__getitem__`は，インデックスやキーで要素を取得するときに，内部で呼ばれる特殊メソッドです．\n",
        "\n",
        "どちらも， Datasetクラスを自作する際によく登場します．\n",
        "\n",
        "```python\n",
        "class MyList:\n",
        "    def __init__(self, data):\n",
        "        self.data = data\n",
        "\n",
        "    def __len__(self):\n",
        "        return len(self.data)\n",
        "\n",
        "    def __getitem__(self, index):\n",
        "        return self.data[index]\n",
        "\n",
        "mylist = MyList([10, 20, 30])\n",
        "print(len(mylist))  # __len__が呼び出される\n",
        "# 3\n",
        "print(mylist[1])  # __getitem__が呼び出される\n",
        "# 20\n",
        "```"
      ]
    },
    {
      "cell_type": "code",
      "execution_count": 2,
      "metadata": {
        "id": "EsLDDSUJkRx-"
      },
      "outputs": [],
      "source": [
        "import torch._dynamo\n",
        "torch._dynamo.disable()\n",
        "\n",
        "import os\n",
        "import numpy as np\n",
        "import pandas as pd\n",
        "import torch\n",
        "import torch.nn as nn\n",
        "import torch.optim as optim\n",
        "import torch.autograd as autograd\n",
        "import inspect\n",
        "\n",
        "nn_except = [\"Module\", \"Parameter\", \"Sequential\"]\n",
        "for m in inspect.getmembers(nn):\n",
        "    if not m[0] in nn_except and m[0][0:2] != \"__\":\n",
        "        delattr(nn, m[0])\n",
        "\n",
        "seed = 1234\n",
        "torch.manual_seed(seed)\n",
        "np.random.seed(seed)\n",
        "\n",
        "device = torch.device(\"cuda\" if torch.cuda.is_available() else \"cpu\")\n",
        "\n",
        "#学習データ\n",
        "x_train = np.load('drive/MyDrive/Colab Notebooks/DLBasics2025_colab/Lecture04/data/x_train.npy')\n",
        "t_train = np.load('drive/MyDrive/Colab Notebooks/DLBasics2025_colab/Lecture04/data/y_train.npy')\n",
        "\n",
        "#テストデータ\n",
        "x_test = np.load('drive/MyDrive/Colab Notebooks/DLBasics2025_colab/Lecture04/data/x_test.npy')\n",
        "\n",
        "class train_dataset(torch.utils.data.Dataset):\n",
        "    def __init__(self, x_train, t_train):\n",
        "        self.x_train = x_train.reshape(-1, 784).astype('float32') / 255\n",
        "        self.t_train = t_train\n",
        "\n",
        "    def __len__(self):\n",
        "        return self.x_train.shape[0]\n",
        "\n",
        "    def __getitem__(self, idx):\n",
        "        return torch.tensor(self.x_train[idx], dtype=torch.float), torch.tensor(self.t_train[idx], dtype=torch.long)\n",
        "\n",
        "class test_dataset(torch.utils.data.Dataset):\n",
        "    def __init__(self, x_test):\n",
        "        self.x_test = x_test.reshape(-1, 784).astype('float32') / 255\n",
        "\n",
        "    def __len__(self):\n",
        "        return self.x_test.shape[0]\n",
        "\n",
        "    def __getitem__(self, idx):\n",
        "        return torch.tensor(self.x_test[idx], dtype=torch.float)\n",
        "\n",
        "trainval_data = train_dataset(x_train, t_train)\n",
        "test_data = test_dataset(x_test)"
      ]
    },
    {
      "cell_type": "markdown",
      "metadata": {
        "id": "UrSpHDIWOfK_"
      },
      "source": [
        "### 多層パーセプトロンの実装"
      ]
    },
    {
      "cell_type": "code",
      "execution_count": 3,
      "metadata": {
        "id": "sKAe0F36nSvU"
      },
      "outputs": [],
      "source": [
        "batch_size = 32\n",
        "\n",
        "val_size = 10000\n",
        "train_size = len(trainval_data) - val_size\n",
        "\n",
        "train_data, val_data = torch.utils.data.random_split(trainval_data, [train_size, val_size])\n",
        "\n",
        "dataloader_train = torch.utils.data.DataLoader(\n",
        "    train_data,\n",
        "    batch_size=batch_size,\n",
        "    shuffle=True\n",
        ")\n",
        "\n",
        "dataloader_valid = torch.utils.data.DataLoader(\n",
        "    val_data,\n",
        "    batch_size=batch_size,\n",
        "    shuffle=True\n",
        ")\n",
        "\n",
        "dataloader_test = torch.utils.data.DataLoader(\n",
        "    test_data,\n",
        "    batch_size=batch_size,\n",
        "    shuffle=False\n",
        ")"
      ]
    },
    {
      "cell_type": "code",
      "execution_count": 12,
      "metadata": {
        "id": "PADQiKNa2snb"
      },
      "outputs": [],
      "source": [
        "def relu(x):\n",
        "    return torch.where(x > 0, x, torch.zeros_like(x))\n",
        "\n",
        "\n",
        "def softmax(x):\n",
        "    x -= torch.cat([x.max(axis=1, keepdims=True).values] * x.size()[1], dim=1)\n",
        "    x_exp = torch.exp(x)\n",
        "    return x_exp/torch.cat([x_exp.sum(dim=1, keepdims=True)]*x.size()[1], dim=1)\n",
        "\n",
        "\n",
        "\n",
        "class Dense(nn.Module):  # nn.Moduleを継承する\n",
        "    def __init__(self, in_dim, out_dim, function=lambda x: x):\n",
        "      super().__init__()\n",
        "      self.W = nn.Parameter(torch.tensor(np.random.uniform(\n",
        "          low=-np.sqrt(6/in_dim),\n",
        "          high=np.sqrt(6/in_dim),\n",
        "          size=(in_dim, out_dim)\n",
        "      ).astype('float32')))\n",
        "      self.b = nn.Parameter(torch.tensor(np.zeros([out_dim]).astype('float32')))\n",
        "      self.function = function\n",
        "\n",
        "    def forward(self, x):\n",
        "      return self.function(torch.matmul(x, self.W) + self.b)\n",
        "\n",
        "\n",
        "class MLP(nn.Module):  # nn.Moduleを継承する\n",
        "    def __init__(self, in_dim, hid_dim, out_dim):\n",
        "      super(MLP, self).__init__()\n",
        "      self.linear1 = Dense(in_dim, hid_dim, function=relu)\n",
        "      self.linear2 = Dense(hid_dim, out_dim, function=softmax)\n",
        "\n",
        "    def forward(self, x):\n",
        "      x = self.linear1(x)\n",
        "      x = self.linear2(x)\n",
        "      return x\n",
        "\n",
        "in_dim = 784\n",
        "hid_dim = 200\n",
        "out_dim = 10\n",
        "lr = 0.005\n",
        "n_epochs = 50\n",
        "\n",
        "\n",
        "mlp = MLP(in_dim, hid_dim, out_dim).to(device)\n",
        "\n",
        "optimizer = optim.SGD(mlp.parameters(), lr=lr)"
      ]
    },
    {
      "cell_type": "code",
      "execution_count": 13,
      "metadata": {
        "id": "nlOZuLu-328i",
        "colab": {
          "base_uri": "https://localhost:8080/"
        },
        "outputId": "fdbe87ad-a981-4920-b025-aa5fc9f75493"
      },
      "outputs": [
        {
          "output_type": "stream",
          "name": "stdout",
          "text": [
            "EPOCH: 0, Train [Loss: 0.901, Accuracy: 0.723], Valid [Loss: 0.648, Accuracy: 0.784]\n",
            "EPOCH: 1, Train [Loss: 0.597, Accuracy: 0.805], Valid [Loss: 0.557, Accuracy: 0.810]\n",
            "EPOCH: 2, Train [Loss: 0.535, Accuracy: 0.820], Valid [Loss: 0.512, Accuracy: 0.825]\n",
            "EPOCH: 3, Train [Loss: 0.503, Accuracy: 0.830], Valid [Loss: 0.488, Accuracy: 0.833]\n",
            "EPOCH: 4, Train [Loss: 0.481, Accuracy: 0.836], Valid [Loss: 0.471, Accuracy: 0.836]\n",
            "EPOCH: 5, Train [Loss: 0.465, Accuracy: 0.841], Valid [Loss: 0.457, Accuracy: 0.839]\n",
            "EPOCH: 6, Train [Loss: 0.452, Accuracy: 0.844], Valid [Loss: 0.457, Accuracy: 0.840]\n",
            "EPOCH: 7, Train [Loss: 0.442, Accuracy: 0.848], Valid [Loss: 0.440, Accuracy: 0.848]\n",
            "EPOCH: 8, Train [Loss: 0.433, Accuracy: 0.852], Valid [Loss: 0.434, Accuracy: 0.850]\n",
            "EPOCH: 9, Train [Loss: 0.425, Accuracy: 0.854], Valid [Loss: 0.423, Accuracy: 0.852]\n",
            "EPOCH: 10, Train [Loss: 0.417, Accuracy: 0.857], Valid [Loss: 0.417, Accuracy: 0.853]\n",
            "EPOCH: 11, Train [Loss: 0.411, Accuracy: 0.858], Valid [Loss: 0.414, Accuracy: 0.855]\n",
            "EPOCH: 12, Train [Loss: 0.405, Accuracy: 0.860], Valid [Loss: 0.411, Accuracy: 0.856]\n",
            "EPOCH: 13, Train [Loss: 0.399, Accuracy: 0.864], Valid [Loss: 0.403, Accuracy: 0.859]\n",
            "EPOCH: 14, Train [Loss: 0.394, Accuracy: 0.863], Valid [Loss: 0.400, Accuracy: 0.860]\n",
            "EPOCH: 15, Train [Loss: 0.390, Accuracy: 0.866], Valid [Loss: 0.393, Accuracy: 0.863]\n",
            "EPOCH: 16, Train [Loss: 0.385, Accuracy: 0.867], Valid [Loss: 0.400, Accuracy: 0.860]\n",
            "EPOCH: 17, Train [Loss: 0.381, Accuracy: 0.869], Valid [Loss: 0.399, Accuracy: 0.859]\n",
            "EPOCH: 18, Train [Loss: 0.377, Accuracy: 0.869], Valid [Loss: 0.382, Accuracy: 0.866]\n",
            "EPOCH: 19, Train [Loss: 0.373, Accuracy: 0.871], Valid [Loss: 0.386, Accuracy: 0.865]\n",
            "EPOCH: 20, Train [Loss: 0.369, Accuracy: 0.872], Valid [Loss: 0.377, Accuracy: 0.866]\n",
            "EPOCH: 21, Train [Loss: 0.366, Accuracy: 0.874], Valid [Loss: 0.374, Accuracy: 0.866]\n",
            "EPOCH: 22, Train [Loss: 0.362, Accuracy: 0.875], Valid [Loss: 0.382, Accuracy: 0.866]\n",
            "EPOCH: 23, Train [Loss: 0.359, Accuracy: 0.875], Valid [Loss: 0.374, Accuracy: 0.866]\n",
            "EPOCH: 24, Train [Loss: 0.356, Accuracy: 0.876], Valid [Loss: 0.370, Accuracy: 0.868]\n",
            "EPOCH: 25, Train [Loss: 0.353, Accuracy: 0.876], Valid [Loss: 0.367, Accuracy: 0.869]\n",
            "EPOCH: 26, Train [Loss: 0.350, Accuracy: 0.877], Valid [Loss: 0.367, Accuracy: 0.869]\n",
            "EPOCH: 27, Train [Loss: 0.348, Accuracy: 0.879], Valid [Loss: 0.372, Accuracy: 0.867]\n",
            "EPOCH: 28, Train [Loss: 0.345, Accuracy: 0.880], Valid [Loss: 0.361, Accuracy: 0.871]\n",
            "EPOCH: 29, Train [Loss: 0.343, Accuracy: 0.880], Valid [Loss: 0.376, Accuracy: 0.866]\n",
            "EPOCH: 30, Train [Loss: 0.340, Accuracy: 0.881], Valid [Loss: 0.360, Accuracy: 0.872]\n",
            "EPOCH: 31, Train [Loss: 0.337, Accuracy: 0.881], Valid [Loss: 0.355, Accuracy: 0.874]\n",
            "EPOCH: 32, Train [Loss: 0.335, Accuracy: 0.883], Valid [Loss: 0.356, Accuracy: 0.871]\n",
            "EPOCH: 33, Train [Loss: 0.333, Accuracy: 0.884], Valid [Loss: 0.357, Accuracy: 0.871]\n",
            "EPOCH: 34, Train [Loss: 0.330, Accuracy: 0.885], Valid [Loss: 0.355, Accuracy: 0.872]\n",
            "EPOCH: 35, Train [Loss: 0.328, Accuracy: 0.886], Valid [Loss: 0.356, Accuracy: 0.875]\n",
            "EPOCH: 36, Train [Loss: 0.326, Accuracy: 0.886], Valid [Loss: 0.353, Accuracy: 0.873]\n",
            "EPOCH: 37, Train [Loss: 0.323, Accuracy: 0.885], Valid [Loss: 0.345, Accuracy: 0.876]\n",
            "EPOCH: 38, Train [Loss: 0.321, Accuracy: 0.888], Valid [Loss: 0.360, Accuracy: 0.870]\n",
            "EPOCH: 39, Train [Loss: 0.320, Accuracy: 0.887], Valid [Loss: 0.343, Accuracy: 0.877]\n",
            "EPOCH: 40, Train [Loss: 0.317, Accuracy: 0.889], Valid [Loss: 0.355, Accuracy: 0.873]\n",
            "EPOCH: 41, Train [Loss: 0.315, Accuracy: 0.889], Valid [Loss: 0.342, Accuracy: 0.876]\n",
            "EPOCH: 42, Train [Loss: 0.314, Accuracy: 0.890], Valid [Loss: 0.348, Accuracy: 0.875]\n",
            "EPOCH: 43, Train [Loss: 0.311, Accuracy: 0.890], Valid [Loss: 0.351, Accuracy: 0.877]\n",
            "EPOCH: 44, Train [Loss: 0.309, Accuracy: 0.892], Valid [Loss: 0.342, Accuracy: 0.877]\n",
            "EPOCH: 45, Train [Loss: 0.307, Accuracy: 0.892], Valid [Loss: 0.344, Accuracy: 0.877]\n",
            "EPOCH: 46, Train [Loss: 0.306, Accuracy: 0.893], Valid [Loss: 0.337, Accuracy: 0.880]\n",
            "EPOCH: 47, Train [Loss: 0.304, Accuracy: 0.893], Valid [Loss: 0.335, Accuracy: 0.878]\n",
            "EPOCH: 48, Train [Loss: 0.302, Accuracy: 0.894], Valid [Loss: 0.335, Accuracy: 0.878]\n",
            "EPOCH: 49, Train [Loss: 0.301, Accuracy: 0.894], Valid [Loss: 0.340, Accuracy: 0.878]\n"
          ]
        }
      ],
      "source": [
        "for epoch in range(n_epochs):\n",
        "    losses_train = []\n",
        "    losses_valid = []\n",
        "    train_num = 0\n",
        "    train_true_num = 0\n",
        "    valid_num = 0\n",
        "    valid_true_num = 0\n",
        "\n",
        "    mlp.train()  # 訓練時には勾配を計算するtrainモードにする\n",
        "    for x, t in dataloader_train:\n",
        "        t_hot = torch.eye(10)[t]\n",
        "\n",
        "        x = x.to(device)\n",
        "        t_hot = t_hot.to(device)\n",
        "\n",
        "        y = mlp(x)\n",
        "\n",
        "        loss = -(t_hot*torch.log(y)).sum(dim=1).mean()\n",
        "\n",
        "        optimizer.zero_grad()\n",
        "        loss.backward()\n",
        "\n",
        "        optimizer.step()\n",
        "\n",
        "        pred = y.argmax(1)\n",
        "\n",
        "        losses_train.append(loss.tolist())\n",
        "\n",
        "        acc = torch.where(t - pred.to(\"cpu\") == 0, torch.ones_like(t), torch.zeros_like(t))\n",
        "        train_num += acc.size()[0]\n",
        "        train_true_num += acc.sum().item()\n",
        "\n",
        "    mlp.eval()  # 評価時には勾配を計算しないevalモードにする\n",
        "    for x, t in dataloader_valid:\n",
        "        t_hot = torch.eye(10)[t]\n",
        "\n",
        "        x = x.to(device)\n",
        "        t_hot = t_hot.to(device)\n",
        "\n",
        "        y = mlp(x)\n",
        "\n",
        "        loss = -(t_hot*torch.log(y)).sum(dim=1).mean()\n",
        "\n",
        "        pred = y.argmax(1)\n",
        "\n",
        "        losses_valid.append(loss.tolist())\n",
        "\n",
        "        acc = torch.where(t - pred.to(\"cpu\") == 0, torch.ones_like(t), torch.zeros_like(t))\n",
        "        valid_num += acc.size()[0]\n",
        "        valid_true_num += acc.sum().item()\n",
        "\n",
        "    print('EPOCH: {}, Train [Loss: {:.3f}, Accuracy: {:.3f}], Valid [Loss: {:.3f}, Accuracy: {:.3f}]'.format(\n",
        "        epoch,\n",
        "        np.mean(losses_train),\n",
        "        train_true_num/train_num,\n",
        "        np.mean(losses_valid),\n",
        "        valid_true_num/valid_num\n",
        "    ))"
      ]
    },
    {
      "cell_type": "code",
      "execution_count": 14,
      "metadata": {
        "id": "Yq3scS5j4Rt2"
      },
      "outputs": [],
      "source": [
        "mlp.eval()\n",
        "\n",
        "t_pred = []\n",
        "for x in dataloader_test:\n",
        "\n",
        "    x = x.to(device)\n",
        "\n",
        "    # 順伝播\n",
        "    y = mlp.forward(x)\n",
        "\n",
        "    # モデルの出力を予測値のスカラーに変換\n",
        "    pred = y.argmax(1).tolist()\n",
        "\n",
        "    t_pred.extend(pred)\n",
        "\n",
        "submission = pd.Series(t_pred, name='label')\n",
        "submission.to_csv('drive/MyDrive/Colab Notebooks/DLBasics2025_colab/Lecture04/submission_pred.csv', header=True, index_label='id')"
      ]
    },
    {
      "cell_type": "code",
      "source": [],
      "metadata": {
        "id": "FQUY9WFLore0"
      },
      "execution_count": null,
      "outputs": []
    }
  ],
  "metadata": {
    "accelerator": "GPU",
    "colab": {
      "provenance": [],
      "include_colab_link": true
    },
    "kernelspec": {
      "display_name": "Python 3",
      "language": "python",
      "name": "python3"
    },
    "language_info": {
      "codemirror_mode": {
        "name": "ipython",
        "version": 3
      },
      "file_extension": ".py",
      "mimetype": "text/x-python",
      "name": "python",
      "nbconvert_exporter": "python",
      "pygments_lexer": "ipython3",
      "version": "3.6.2"
    }
  },
  "nbformat": 4,
  "nbformat_minor": 0
}